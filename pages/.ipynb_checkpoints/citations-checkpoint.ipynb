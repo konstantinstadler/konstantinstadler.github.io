{
 "cells": [
  {
   "cell_type": "markdown",
   "metadata": {},
   "source": [
    "Some citations"
   ]
  },
  {
   "cell_type": "code",
   "execution_count": 3,
   "metadata": {},
   "outputs": [
    {
     "ename": "SyntaxError",
     "evalue": "invalid syntax (<ipython-input-3-e928e18ad112>, line 3)",
     "output_type": "error",
     "traceback": [
      "\u001b[0;36m  File \u001b[0;32m\"<ipython-input-3-e928e18ad112>\"\u001b[0;36m, line \u001b[0;32m3\u001b[0m\n\u001b[0;31m    <div data-badge-popover=\"right\"\u001b[0m\n\u001b[0m    ^\u001b[0m\n\u001b[0;31mSyntaxError\u001b[0m\u001b[0;31m:\u001b[0m invalid syntax\n"
     ]
    }
   ],
   "source": [
    "from IPython.core.display import HTML\n",
    "display(HTML(\n",
    "    <div data-badge-popover=\"right\" \n",
    "    data-badge-type=\"medium-donut\" \n",
    "    data-doi=\"10.1088/1748-9326/aa6da9\" \n",
    "    data-hide-no-mentions=\"true\" class=\"altmetric-embed\"></div>))"
   ]
  },
  {
   "cell_type": "code",
   "execution_count": null,
   "metadata": {},
   "outputs": [],
   "source": []
  }
 ],
 "metadata": {
  "kernelspec": {
   "display_name": "Python [default]",
   "language": "python",
   "name": "python3"
  },
  "language_info": {
   "codemirror_mode": {
    "name": "ipython",
    "version": 3
   },
   "file_extension": ".py",
   "mimetype": "text/x-python",
   "name": "python",
   "nbconvert_exporter": "python",
   "pygments_lexer": "ipython3",
   "version": "3.5.3"
  },
  "nikola": {
   "category": "",
   "date": "2017-10-19 17:08:58 UTC+02:00",
   "description": "",
   "link": "",
   "slug": "citations",
   "tags": "",
   "title": "citations",
   "type": "text"
  }
 },
 "nbformat": 4,
 "nbformat_minor": 2
}
