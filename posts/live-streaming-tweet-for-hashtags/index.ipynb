{
 "cells": [
  {
   "cell_type": "markdown",
   "metadata": {},
   "source": [
    "# Streaming of tweets for hashtags and keywords"
   ]
  },
  {
   "cell_type": "markdown",
   "metadata": {},
   "source": [
    "This notebook explains how to search the live twitter stream for certain hashtags and keywords. \n",
    "The gathered tweets are stored as text files and further processed into a panda DataFrame.\n",
    "\n",
    "The script is designed for long term streaming with gathered tweets stored in succeeding files.\n",
    "\n",
    "<!-- TEASER_END -->"
   ]
  },
  {
   "cell_type": "markdown",
   "metadata": {},
   "source": [
    "**Note**: This notebook is not directly runable since personalized OAuths keys are required to access the Twitter API. See below for how to obtain them. Once you have OAuth keys, save them in a json file and point to this file in script described in \"Harvesting tweets\"."
   ]
  },
  {
   "cell_type": "markdown",
   "metadata": {},
   "source": [
    "## Prerequisites"
   ]
  },
  {
   "cell_type": "markdown",
   "metadata": {},
   "source": [
    "For the streaming of the twitter stream, we will use [Tweepy](http://www.tweepy.org/). \n",
    "Currently (by 22.11.2017) there is a bug in the Tweepy version available at PyPI which breaks the code for certain twitter responses. \n",
    "A bug fixed version of Tweepy is available at the source code repo here: https://github.com/tweepy/tweepy\n",
    "\n",
    "To install from source, clone the repository and install locally as explained in the readme file:\n",
    "```\n",
    "git clone https://github.com/tweepy/tweepy.git\n",
    "cd tweepy\n",
    "python setup.py install\n",
    "```"
   ]
  },
  {
   "cell_type": "markdown",
   "metadata": {},
   "source": [
    "To start using the Twitter API, we also need [OAuth keys](https://en.wikipedia.org/wiki/OAuth) to grant us access rights. "
   ]
  },
  {
   "cell_type": "markdown",
   "metadata": {},
   "source": [
    "To generate these, login into your twitter account and generate a new application at https://apps.twitter.com with read and write access rights. You can find further information about the OAuth of Twitter at the [Twitter developer guide](https://developer.twitter.com/en/docs/basics/authentication/overview/oauth)."
   ]
  },
  {
   "cell_type": "markdown",
   "metadata": {},
   "source": [
    "Once you have tweepy installed and the OAuth keys you are ready to go."
   ]
  },
  {
   "cell_type": "markdown",
   "metadata": {},
   "source": [
    "## Harvesting tweets"
   ]
  },
  {
   "cell_type": "code",
   "execution_count": 1,
   "metadata": {
    "collapsed": true
   },
   "outputs": [],
   "source": [
    "import json\n",
    "import os\n",
    "import tweepy"
   ]
  },
  {
   "cell_type": "markdown",
   "metadata": {},
   "source": [
    "First, we need a function providing the OAuths keys obtained above.\n",
    "The example function below assumes that the OAuths keys are stored in a json file. \n",
    "This should have the following format:\n",
    "\n",
    "```\n",
    "{\n",
    "\"consumer_key\": \"str_sequence\",\n",
    "\"consumer_secret\": \"str_sequence\",\n",
    "\"access_token\": \"str_sequence\",\n",
    "\"access_secret\": \"str_sequence\"\n",
    "}\n",
    "```"
   ]
  },
  {
   "cell_type": "code",
   "execution_count": 2,
   "metadata": {
    "collapsed": true
   },
   "outputs": [],
   "source": [
    "def get_oauth_from_file(oauth_file):\n",
    "    \"\"\" Provides oauth keys stored in json file 'oauth_file'\n",
    "    \"\"\"\n",
    "    \n",
    "    with open(oauth_file) as json_file:\n",
    "        keys = json.load(json_file)\n",
    "\n",
    "    auth = tweepy.OAuthHandler(keys[\"consumer_key\"], \n",
    "                               keys[\"consumer_secret\"])\n",
    "    auth.set_access_token(keys[\"access_token\"], \n",
    "                          keys[\"access_secret\"])\n",
    "    return auth\n"
   ]
  },
  {
   "cell_type": "markdown",
   "metadata": {},
   "source": [
    "Next, we design a custom Twitter listener which saves the gathered tweets in succeeding files (for further information on how to design your own StreamListener check the [tweepy docs for this topic](http://tweepy.readthedocs.io/en/latest/streaming_how_to.html))."
   ]
  },
  {
   "cell_type": "code",
   "execution_count": 3,
   "metadata": {
    "collapsed": true
   },
   "outputs": [],
   "source": [
    "class MyListener(tweepy.streaming.StreamListener):\n",
    "\n",
    "    def __init__(self, storage_folder, base_file_name, nr_tweet_per_file=1000):\n",
    "        \"\"\" Twitter listener storing tweets as json entries in a file\n",
    "        \n",
    "        Note\n",
    "        -----\n",
    "        The tweets are stored as a list of json entries in a file.\n",
    "        Thus, every line in the resulting file is a valid json entry.\n",
    "        \n",
    "        \n",
    "        Parameters\n",
    "        ----------\n",
    "        \n",
    "        storage_folder: str\n",
    "            Folder for storing the tweets. Will be created if not existing.\n",
    "            Already existing files matching the base_file_name will be overwritten!\n",
    "            \n",
    "        base_file_name: str\n",
    "            Basename of the file for storing tweets. \n",
    "            E.g. 'tweets' would result in \n",
    "                'tweet0000000000.jsons'\n",
    "                'tweet0000000001.jsons'\n",
    "                ...\n",
    "        nr_tweet_per_file: int, optional\n",
    "            How many tweets to store in one json file (default: 1000)\n",
    "            \n",
    "        \"\"\"\n",
    "        try: \n",
    "            os.mkdir(storage_folder)\n",
    "        except FileExistsError:\n",
    "            pass\n",
    "        self.store_base = os.path.join(storage_folder, base_file_name)\n",
    "        self.nr_tweet_per_file = nr_tweet_per_file\n",
    "        self.counter_tweets = 0\n",
    "        self.counter_files = 0\n",
    "\n",
    "    def on_data(self, data):\n",
    "        try:\n",
    "            if self.nr_tweet_per_file <= self.counter_tweets:\n",
    "                self.counter_files += 1\n",
    "                self.counter_tweets = 0\n",
    "            else:\n",
    "                self.counter_tweets += 1\n",
    "                \n",
    "            current_file = (\n",
    "                    self.store_base + \n",
    "                    '_' + str(self.counter_files).zfill(10) +\n",
    "                    '.jsons')\n",
    "            with open(current_file, 'a') as f:\n",
    "                f.write(data)\n",
    "                return True\n",
    "        except BaseException as e:\n",
    "            print(\"Error on_data: {}\".format(str(e)))\n",
    "        return True\n",
    " \n",
    "    def on_error(self, status):\n",
    "        print(status)\n",
    "        return True"
   ]
  },
  {
   "cell_type": "markdown",
   "metadata": {},
   "source": [
    "Next, we define the hashtags, keywords and usernames which we would like to stream (here an example of the cop22 and cop23 streaming):"
   ]
  },
  {
   "cell_type": "code",
   "execution_count": 4,
   "metadata": {
    "collapsed": true
   },
   "outputs": [],
   "source": [
    "twitter_tracking_list = [\n",
    "    '@COP22', 'cop22', '#COP', '#cop22', \n",
    "    '@COP23', 'cop23', '#COP', '#cop23', \n",
    "    '#climatechange', '#climateaction', \n",
    "    '#ParisAgreement', '#globalwarming', '#beforetheflood', \n",
    "    '#actonclimate', '#climate',\n",
    "]"
   ]
  },
  {
   "cell_type": "markdown",
   "metadata": {},
   "source": [
    "Now everything is setup and we can start streaming:"
   ]
  },
  {
   "cell_type": "code",
   "execution_count": 5,
   "metadata": {},
   "outputs": [
    {
     "name": "stdout",
     "output_type": "stream",
     "text": [
      "Started streaming tweets\n",
      "Stopped streaming tweets\n"
     ]
    }
   ],
   "source": [
    "try:\n",
    "    print('Started streaming tweets')\n",
    "    while True:\n",
    "        twitter_stream = tweepy.Stream(\n",
    "            auth=get_oauth_from_file(oauth_file='/tmp/OAuthTwitter.json'),\n",
    "            listener=MyListener(storage_folder='/tmp/twitter_stream',\n",
    "                                base_file_name='tweets'))\n",
    "        twitter_stream.filter(track=twitter_tracking_list)\n",
    "except KeyboardInterrupt:\n",
    "    print('Stopped streaming tweets')"
   ]
  },
  {
   "cell_type": "markdown",
   "metadata": {},
   "source": [
    "To stop the streaming interrupt the kernel with:\n",
    "\n",
    "    - Jupyter notebook: Press the stop button or choose \"Interrupt\" from the \"Kernel\" menu\n",
    "    - Script: Press Control-C"
   ]
  },
  {
   "cell_type": "markdown",
   "metadata": {},
   "source": [
    "The tweets are stored as json entries in the files in the specified folder. \n",
    "These can easily be read in Python with:"
   ]
  },
  {
   "cell_type": "code",
   "execution_count": 6,
   "metadata": {
    "collapsed": true
   },
   "outputs": [],
   "source": [
    "with open('/tmp/twitter_stream/tweets_0000000000.jsons', 'r') as twitter_jsons:\n",
    "        tweets = [json.loads(line) for line in twitter_jsons]"
   ]
  },
  {
   "cell_type": "code",
   "execution_count": 7,
   "metadata": {},
   "outputs": [
    {
     "data": {
      "text/plain": [
       "[{'contributors': None,\n",
       "  'coordinates': None,\n",
       "  'created_at': 'Fri Nov 10 17:46:32 +0000 2017',\n",
       "  'entities': {'hashtags': [],\n",
       "   'symbols': [],\n",
       "   'urls': [{'display_url': 'blog.education.nationalgeographic.com/2017/11/09/cli…',\n",
       "     'expanded_url': 'https://blog.education.nationalgeographic.com/2017/11/09/climate-action-250-schools-69-countries-focusing-on-climate-change',\n",
       "     'indices': [84, 107],\n",
       "     'url': 'https://t.co/gJRNyyAky1'}],\n",
       "   'user_mentions': [{'id': 149593681,\n",
       "     'id_str': '149593681',\n",
       "     'indices': [3, 14],\n",
       "     'name': 'Koen Timmers',\n",
       "     'screen_name': 'zelfstudie'},\n",
       "    {'id': 136441843,\n",
       "     'id_str': '136441843',\n",
       "     'indices': [108, 124],\n",
       "     'name': 'NatGeo Education',\n",
       "     'screen_name': 'NatGeoEducation'}]},\n",
       "  'favorite_count': 0,\n",
       "  'favorited': False,\n",
       "  'filter_level': 'low',\n",
       "  'geo': None,\n",
       "  'id': 929042603479269377,\n",
       "  'id_str': '929042603479269377',\n",
       "  'in_reply_to_screen_name': None,\n",
       "  'in_reply_to_status_id': None,\n",
       "  'in_reply_to_status_id_str': None,\n",
       "  'in_reply_to_user_id': None,\n",
       "  'in_reply_to_user_id_str': None,\n",
       "  'is_quote_status': False,\n",
       "  'lang': 'en',\n",
       "  'place': None,\n",
       "  'possibly_sensitive': False,\n",
       "  'quote_count': 0,\n",
       "  'reply_count': 0,\n",
       "  'retweet_count': 0,\n",
       "  'retweeted': False,\n",
       "  'retweeted_status': {'contributors': None,\n",
       "   'coordinates': None,\n",
       "   'created_at': 'Thu Nov 09 17:30:01 +0000 2017',\n",
       "   'display_text_range': [0, 140],\n",
       "   'entities': {'hashtags': [],\n",
       "    'symbols': [],\n",
       "    'urls': [{'display_url': 'blog.education.nationalgeographic.com/2017/11/09/cli…',\n",
       "      'expanded_url': 'https://blog.education.nationalgeographic.com/2017/11/09/climate-action-250-schools-69-countries-focusing-on-climate-change',\n",
       "      'indices': [68, 91],\n",
       "      'url': 'https://t.co/gJRNyyAky1'},\n",
       "     {'display_url': 'twitter.com/i/web/status/9…',\n",
       "      'expanded_url': 'https://twitter.com/i/web/status/928676060069269509',\n",
       "      'indices': [110, 133],\n",
       "      'url': 'https://t.co/0Ua4kwQU1p'}],\n",
       "    'user_mentions': [{'id': 136441843,\n",
       "      'id_str': '136441843',\n",
       "      'indices': [92, 108],\n",
       "      'name': 'NatGeo Education',\n",
       "      'screen_name': 'NatGeoEducation'}]},\n",
       "   'extended_tweet': {'display_text_range': [0, 155],\n",
       "    'entities': {'hashtags': [{'indices': [109, 123], 'text': 'climatechange'},\n",
       "      {'indices': [124, 139], 'text': 'climateactionp'},\n",
       "      {'indices': [140, 155], 'text': 'teachersmatter'}],\n",
       "     'media': [{'display_url': 'pic.twitter.com/fFhRDnCbUQ',\n",
       "       'expanded_url': 'https://twitter.com/zelfstudie/status/928676060069269509/photo/1',\n",
       "       'id': 928674531937538048,\n",
       "       'id_str': '928674531937538048',\n",
       "       'indices': [156, 179],\n",
       "       'media_url': 'http://pbs.twimg.com/media/DONQkQQW0AAuZYH.jpg',\n",
       "       'media_url_https': 'https://pbs.twimg.com/media/DONQkQQW0AAuZYH.jpg',\n",
       "       'sizes': {'large': {'h': 838, 'resize': 'fit', 'w': 945},\n",
       "        'medium': {'h': 838, 'resize': 'fit', 'w': 945},\n",
       "        'small': {'h': 603, 'resize': 'fit', 'w': 680},\n",
       "        'thumb': {'h': 150, 'resize': 'crop', 'w': 150}},\n",
       "       'type': 'photo',\n",
       "       'url': 'https://t.co/fFhRDnCbUQ'}],\n",
       "     'symbols': [],\n",
       "     'urls': [{'display_url': 'blog.education.nationalgeographic.com/2017/11/09/cli…',\n",
       "       'expanded_url': 'https://blog.education.nationalgeographic.com/2017/11/09/climate-action-250-schools-69-countries-focusing-on-climate-change',\n",
       "       'indices': [68, 91],\n",
       "       'url': 'https://t.co/gJRNyyAky1'}],\n",
       "     'user_mentions': [{'id': 136441843,\n",
       "       'id_str': '136441843',\n",
       "       'indices': [92, 108],\n",
       "       'name': 'NatGeo Education',\n",
       "       'screen_name': 'NatGeoEducation'}]},\n",
       "    'extended_entities': {'media': [{'display_url': 'pic.twitter.com/fFhRDnCbUQ',\n",
       "       'expanded_url': 'https://twitter.com/zelfstudie/status/928676060069269509/photo/1',\n",
       "       'id': 928674531937538048,\n",
       "       'id_str': '928674531937538048',\n",
       "       'indices': [156, 179],\n",
       "       'media_url': 'http://pbs.twimg.com/media/DONQkQQW0AAuZYH.jpg',\n",
       "       'media_url_https': 'https://pbs.twimg.com/media/DONQkQQW0AAuZYH.jpg',\n",
       "       'sizes': {'large': {'h': 838, 'resize': 'fit', 'w': 945},\n",
       "        'medium': {'h': 838, 'resize': 'fit', 'w': 945},\n",
       "        'small': {'h': 603, 'resize': 'fit', 'w': 680},\n",
       "        'thumb': {'h': 150, 'resize': 'crop', 'w': 150}},\n",
       "       'type': 'photo',\n",
       "       'url': 'https://t.co/fFhRDnCbUQ'}]},\n",
       "    'full_text': 'The Climate Action project covered by National Geographic Education\\nhttps://t.co/gJRNyyAky1 @NatGeoEducation #climatechange #climateactionp #teachersmatter https://t.co/fFhRDnCbUQ'},\n",
       "   'favorite_count': 70,\n",
       "   'favorited': False,\n",
       "   'filter_level': 'low',\n",
       "   'geo': None,\n",
       "   'id': 928676060069269509,\n",
       "   'id_str': '928676060069269509',\n",
       "   'in_reply_to_screen_name': None,\n",
       "   'in_reply_to_status_id': None,\n",
       "   'in_reply_to_status_id_str': None,\n",
       "   'in_reply_to_user_id': None,\n",
       "   'in_reply_to_user_id_str': None,\n",
       "   'is_quote_status': False,\n",
       "   'lang': 'en',\n",
       "   'place': None,\n",
       "   'possibly_sensitive': False,\n",
       "   'quote_count': 11,\n",
       "   'reply_count': 7,\n",
       "   'retweet_count': 34,\n",
       "   'retweeted': False,\n",
       "   'source': '<a href=\"http://twitter.com\" rel=\"nofollow\">Twitter Web Client</a>',\n",
       "   'text': 'The Climate Action project covered by National Geographic Education\\nhttps://t.co/gJRNyyAky1 @NatGeoEducation… https://t.co/0Ua4kwQU1p',\n",
       "   'truncated': True,\n",
       "   'user': {'contributors_enabled': False,\n",
       "    'created_at': 'Sat May 29 17:52:29 +0000 2010',\n",
       "    'default_profile': False,\n",
       "    'default_profile_image': False,\n",
       "    'description': '@TeacherPrize Top 50 teacher | Teaching Kakuma Refugees via Skype | Author | Speaker | Technology Enhanced Learning | Founder zelfstudie.be | MIE Fellow',\n",
       "    'favourites_count': 8248,\n",
       "    'follow_request_sent': None,\n",
       "    'followers_count': 3816,\n",
       "    'following': None,\n",
       "    'friends_count': 2711,\n",
       "    'geo_enabled': True,\n",
       "    'id': 149593681,\n",
       "    'id_str': '149593681',\n",
       "    'is_translator': False,\n",
       "    'lang': 'nl',\n",
       "    'listed_count': 331,\n",
       "    'location': 'Belgium',\n",
       "    'name': 'Koen Timmers',\n",
       "    'notifications': None,\n",
       "    'profile_background_color': 'D0D0D0',\n",
       "    'profile_background_image_url': 'http://pbs.twimg.com/profile_background_images/375133972/bg-twitter.jpg',\n",
       "    'profile_background_image_url_https': 'https://pbs.twimg.com/profile_background_images/375133972/bg-twitter.jpg',\n",
       "    'profile_background_tile': False,\n",
       "    'profile_banner_url': 'https://pbs.twimg.com/profile_banners/149593681/1498040391',\n",
       "    'profile_image_url': 'http://pbs.twimg.com/profile_images/808926736851357696/_LIvoZ7Q_normal.jpg',\n",
       "    'profile_image_url_https': 'https://pbs.twimg.com/profile_images/808926736851357696/_LIvoZ7Q_normal.jpg',\n",
       "    'profile_link_color': 'D9650D',\n",
       "    'profile_sidebar_border_color': '0D0202',\n",
       "    'profile_sidebar_fill_color': 'EDA426',\n",
       "    'profile_text_color': '333333',\n",
       "    'profile_use_background_image': True,\n",
       "    'protected': False,\n",
       "    'screen_name': 'zelfstudie',\n",
       "    'statuses_count': 7064,\n",
       "    'time_zone': 'Brussels',\n",
       "    'translator_type': 'none',\n",
       "    'url': 'http://www.timmers.me',\n",
       "    'utc_offset': 3600,\n",
       "    'verified': False}},\n",
       "  'source': '<a href=\"http://twitter.com/download/iphone\" rel=\"nofollow\">Twitter for iPhone</a>',\n",
       "  'text': 'RT @zelfstudie: The Climate Action project covered by National Geographic Education\\nhttps://t.co/gJRNyyAky1 @NatGeoEducation… ',\n",
       "  'timestamp_ms': '1510335992103',\n",
       "  'truncated': False,\n",
       "  'user': {'contributors_enabled': False,\n",
       "   'created_at': 'Tue Aug 18 19:59:41 +0000 2009',\n",
       "   'default_profile': False,\n",
       "   'default_profile_image': False,\n",
       "   'description': 'Head of Beta School & Teacher. I #LoveToTeach because to teach is to empower others, to lead changes & create the future!!! FC Lead Ambassador, MIE EXPERT',\n",
       "   'favourites_count': 945,\n",
       "   'follow_request_sent': None,\n",
       "   'followers_count': 218,\n",
       "   'following': None,\n",
       "   'friends_count': 121,\n",
       "   'geo_enabled': True,\n",
       "   'id': 66782856,\n",
       "   'id_str': '66782856',\n",
       "   'is_translator': False,\n",
       "   'lang': 'en',\n",
       "   'listed_count': 23,\n",
       "   'location': 'israel',\n",
       "   'name': 'karina',\n",
       "   'notifications': None,\n",
       "   'profile_background_color': 'BF1238',\n",
       "   'profile_background_image_url': 'http://abs.twimg.com/images/themes/theme20/bg.png',\n",
       "   'profile_background_image_url_https': 'https://abs.twimg.com/images/themes/theme20/bg.png',\n",
       "   'profile_background_tile': False,\n",
       "   'profile_banner_url': 'https://pbs.twimg.com/profile_banners/66782856/1461433147',\n",
       "   'profile_image_url': 'http://pbs.twimg.com/profile_images/902939255093284865/0zsSHLvE_normal.jpg',\n",
       "   'profile_image_url_https': 'https://pbs.twimg.com/profile_images/902939255093284865/0zsSHLvE_normal.jpg',\n",
       "   'profile_link_color': 'BF1238',\n",
       "   'profile_sidebar_border_color': 'FFFFFF',\n",
       "   'profile_sidebar_fill_color': 'EFEFEF',\n",
       "   'profile_text_color': '333333',\n",
       "   'profile_use_background_image': True,\n",
       "   'protected': False,\n",
       "   'screen_name': 'karinam60',\n",
       "   'statuses_count': 1519,\n",
       "   'time_zone': 'Jerusalem',\n",
       "   'translator_type': 'none',\n",
       "   'url': 'http://karinam60.wix.com/betasefer',\n",
       "   'utc_offset': 7200,\n",
       "   'verified': False}},\n",
       " {'contributors': None,\n",
       "  'coordinates': None,\n",
       "  'created_at': 'Fri Nov 10 17:46:35 +0000 2017',\n",
       "  'entities': {'hashtags': [{'indices': [0, 14], 'text': 'ClimateChange'}],\n",
       "   'symbols': [],\n",
       "   'urls': [{'display_url': 'ift.tt/2yq4q9t',\n",
       "     'expanded_url': 'http://ift.tt/2yq4q9t',\n",
       "     'indices': [59, 82],\n",
       "     'url': 'https://t.co/J7o95JylhR'}],\n",
       "   'user_mentions': []},\n",
       "  'favorite_count': 0,\n",
       "  'favorited': False,\n",
       "  'filter_level': 'low',\n",
       "  'geo': None,\n",
       "  'id': 929042617765171201,\n",
       "  'id_str': '929042617765171201',\n",
       "  'in_reply_to_screen_name': None,\n",
       "  'in_reply_to_status_id': None,\n",
       "  'in_reply_to_status_id_str': None,\n",
       "  'in_reply_to_user_id': None,\n",
       "  'in_reply_to_user_id_str': None,\n",
       "  'is_quote_status': False,\n",
       "  'lang': 'it',\n",
       "  'place': None,\n",
       "  'possibly_sensitive': False,\n",
       "  'quote_count': 0,\n",
       "  'reply_count': 0,\n",
       "  'retweet_count': 0,\n",
       "  'retweeted': False,\n",
       "  'source': '<a href=\"https://ifttt.com\" rel=\"nofollow\">IFTTT</a>',\n",
       "  'text': '#ClimateChange: Ferma i finanziamenti. Ferma il gasdotto.: https://t.co/J7o95JylhR',\n",
       "  'timestamp_ms': '1510335995509',\n",
       "  'truncated': False,\n",
       "  'user': {'contributors_enabled': False,\n",
       "   'created_at': 'Fri Jan 21 20:04:39 +0000 2011',\n",
       "   'default_profile': False,\n",
       "   'default_profile_image': False,\n",
       "   'description': 'Watching frogs boil as #Banks, #BigCorp, #BigOil & the #MilitaryIndustrialComplex use #Brainwashing & #TwoPartyTyranny to take a little more life away each day.',\n",
       "   'favourites_count': 7,\n",
       "   'follow_request_sent': None,\n",
       "   'followers_count': 231,\n",
       "   'following': None,\n",
       "   'friends_count': 1,\n",
       "   'geo_enabled': False,\n",
       "   'id': 241240437,\n",
       "   'id_str': '241240437',\n",
       "   'is_translator': False,\n",
       "   'lang': 'en',\n",
       "   'listed_count': 81,\n",
       "   'location': 'Free Palestine | Save Gaza',\n",
       "   'name': 'IronBoltBruce',\n",
       "   'notifications': None,\n",
       "   'profile_background_color': '000000',\n",
       "   'profile_background_image_url': 'http://pbs.twimg.com/profile_background_images/443373680211406848/dWlLVPye.png',\n",
       "   'profile_background_image_url_https': 'https://pbs.twimg.com/profile_background_images/443373680211406848/dWlLVPye.png',\n",
       "   'profile_background_tile': False,\n",
       "   'profile_banner_url': 'https://pbs.twimg.com/profile_banners/241240437/1444648350',\n",
       "   'profile_image_url': 'http://pbs.twimg.com/profile_images/462512490761297920/i7V3sGFl_normal.png',\n",
       "   'profile_image_url_https': 'https://pbs.twimg.com/profile_images/462512490761297920/i7V3sGFl_normal.png',\n",
       "   'profile_link_color': 'FD6304',\n",
       "   'profile_sidebar_border_color': '000000',\n",
       "   'profile_sidebar_fill_color': 'C0DFEC',\n",
       "   'profile_text_color': '333333',\n",
       "   'profile_use_background_image': False,\n",
       "   'protected': False,\n",
       "   'screen_name': 'WatchFrogsBoil',\n",
       "   'statuses_count': 100618,\n",
       "   'time_zone': 'Central Time (US & Canada)',\n",
       "   'translator_type': 'none',\n",
       "   'url': 'http://IronBoltBruce.com',\n",
       "   'utc_offset': -21600,\n",
       "   'verified': False}}]"
      ]
     },
     "execution_count": 7,
     "metadata": {},
     "output_type": "execute_result"
    }
   ],
   "source": [
    "tweets[:2]"
   ]
  },
  {
   "cell_type": "markdown",
   "metadata": {},
   "source": [
    "## Parsing tweets into pandas DataFrame and store as csv"
   ]
  },
  {
   "cell_type": "markdown",
   "metadata": {},
   "source": [
    "Once we are finished streaming tweets, we can process the files into a [pandas](https://pandas.pydata.org/) [DataFrame](https://pandas.pydata.org/pandas-docs/stable/generated/pandas.DataFrame.html)."
   ]
  },
  {
   "cell_type": "code",
   "execution_count": 8,
   "metadata": {
    "collapsed": true
   },
   "outputs": [],
   "source": [
    "import pandas as pd"
   ]
  },
  {
   "cell_type": "markdown",
   "metadata": {},
   "source": [
    "First, we define a function which extracts the interesting information of a specific tweet:"
   ]
  },
  {
   "cell_type": "code",
   "execution_count": 9,
   "metadata": {
    "collapsed": true
   },
   "outputs": [],
   "source": [
    "def parse_tweet(tweet):\n",
    "    \"\"\" Parse an individual tweet into a dict\n",
    "    \"\"\"\n",
    "    \n",
    "    def get_list_from_dict_list(list_of_dict, ik):\n",
    "        \"\"\" Extract values from a list of dictionaries\n",
    "\n",
    "        Parameters:\n",
    "        -----------\n",
    "        list_of_dict : list of dictonaries with same key\n",
    "\n",
    "        ik : key for the dict to extract\n",
    "\n",
    "        Returns\n",
    "        -------\n",
    "        list of extracted items or None\n",
    "        \"\"\"\n",
    "        try:\n",
    "            list_result = [dd.get(ik) for dd in list_of_dict]\n",
    "        except TypeError:\n",
    "            list_result = None\n",
    "        return list_result\n",
    "    \n",
    "    def extractor_closure(tweet_dict):\n",
    "        \"\"\"Closure for extracting nested entries from a dict\n",
    "        \"\"\"\n",
    "        def get_item(*args):\n",
    "            dd_nested=tweet_dict\n",
    "            for item in args:\n",
    "                dd_nested = dd_nested.get(item, None)\n",
    "                if dd_nested is None:\n",
    "                    break\n",
    "            return dd_nested\n",
    "        return get_item\n",
    "\n",
    "    extractor = extractor_closure(tweet)\n",
    "       \n",
    "    dd_extract = {\n",
    "        'id' : extractor('id'),\n",
    "        'created_at' : extractor('created_at'),\n",
    "        'lang' : extractor('lang'),\n",
    "        'text' : extractor('text').replace('\\n', ' ').replace('\\r', ' ') if extractor('text') else None,\n",
    "        'user_name' : extractor('user', 'name'),\n",
    "        'screen_name' : extractor('user', 'screen_name'),\n",
    "        'followers_count' : extractor('user', 'followers_count'),\n",
    "        'country' : extractor('place', 'country_code'),\n",
    "        'place' : extractor('place', 'full_name'),\n",
    "        'user_mentions_names' : get_list_from_dict_list(\n",
    "                extractor('entities', 'user_mentions'), 'screen_name'),\n",
    "        'hashtags' : get_list_from_dict_list(\n",
    "                extractor('entities', 'hashtags'), 'text'),\n",
    "        }\n",
    "\n",
    "    return dd_extract\n"
   ]
  },
  {
   "cell_type": "markdown",
   "metadata": {},
   "source": [
    "Next, we define a function which parsed one jsons file into a pandas DataFrame:"
   ]
  },
  {
   "cell_type": "code",
   "execution_count": 10,
   "metadata": {
    "collapsed": true
   },
   "outputs": [],
   "source": [
    "def jsons_to_df(jsons_file):\n",
    "    \"\"\"Read the jsons file and return the content as pandas DataFrame\"\"\"\n",
    "    \n",
    "    with open(jsons_file, 'r') as twitter_jsons:\n",
    "        list_tweets = [parse_tweet(json.loads(line)) \n",
    "                       for line in twitter_jsons]\n",
    "    return pd.DataFrame(list_tweets)\n",
    "    "
   ]
  },
  {
   "cell_type": "markdown",
   "metadata": {},
   "source": [
    "To run the parser over all gathered files, we need a list of these files:"
   ]
  },
  {
   "cell_type": "code",
   "execution_count": 11,
   "metadata": {
    "collapsed": true
   },
   "outputs": [],
   "source": [
    "tweets_folder = '/tmp/twitter_stream/'\n",
    "list_jsons_files = [os.path.join(tweets_folder, tweets_file)\n",
    "                    for tweets_file in\n",
    "                        os.listdir(tweets_folder) if\n",
    "                            os.path.splitext(tweets_file)[1] == '.jsons']\n"
   ]
  },
  {
   "cell_type": "markdown",
   "metadata": {},
   "source": [
    "We can than process all gathers tweets into a pandas DataFrame, removing duplicate tweets:"
   ]
  },
  {
   "cell_type": "code",
   "execution_count": 12,
   "metadata": {
    "collapsed": true
   },
   "outputs": [],
   "source": [
    "df_tweets = (pd.concat([jsons_to_df(ff) for ff in list_jsons_files]).\n",
    "             drop_duplicates(subset='id').\n",
    "             sort_values('id').\n",
    "             reset_index(drop=True)) "
   ]
  },
  {
   "cell_type": "markdown",
   "metadata": {},
   "source": [
    "To store the English tweets we can than use"
   ]
  },
  {
   "cell_type": "code",
   "execution_count": 13,
   "metadata": {
    "collapsed": true
   },
   "outputs": [],
   "source": [
    "df_eng = df_tweets[df_tweets['lang']=='en']\n",
    "df_eng.to_csv('/tmp/eng_tweets.csv', sep='|')"
   ]
  },
  {
   "cell_type": "code",
   "execution_count": 14,
   "metadata": {},
   "outputs": [
    {
     "data": {
      "text/html": [
       "<div>\n",
       "<style scoped>\n",
       "    .dataframe tbody tr th:only-of-type {\n",
       "        vertical-align: middle;\n",
       "    }\n",
       "\n",
       "    .dataframe tbody tr th {\n",
       "        vertical-align: top;\n",
       "    }\n",
       "\n",
       "    .dataframe thead th {\n",
       "        text-align: right;\n",
       "    }\n",
       "</style>\n",
       "<table border=\"1\" class=\"dataframe\">\n",
       "  <thead>\n",
       "    <tr style=\"text-align: right;\">\n",
       "      <th></th>\n",
       "      <th>country</th>\n",
       "      <th>created_at</th>\n",
       "      <th>followers_count</th>\n",
       "      <th>hashtags</th>\n",
       "      <th>id</th>\n",
       "      <th>lang</th>\n",
       "      <th>place</th>\n",
       "      <th>screen_name</th>\n",
       "      <th>text</th>\n",
       "      <th>user_mentions_names</th>\n",
       "      <th>user_name</th>\n",
       "    </tr>\n",
       "  </thead>\n",
       "  <tbody>\n",
       "    <tr>\n",
       "      <th>0</th>\n",
       "      <td>None</td>\n",
       "      <td>Fri Nov 10 17:46:32 +0000 2017</td>\n",
       "      <td>218</td>\n",
       "      <td>[]</td>\n",
       "      <td>929042603479269377</td>\n",
       "      <td>en</td>\n",
       "      <td>None</td>\n",
       "      <td>karinam60</td>\n",
       "      <td>RT @zelfstudie: The Climate Action project cov...</td>\n",
       "      <td>[zelfstudie, NatGeoEducation]</td>\n",
       "      <td>karina</td>\n",
       "    </tr>\n",
       "    <tr>\n",
       "      <th>2</th>\n",
       "      <td>None</td>\n",
       "      <td>Fri Nov 10 17:46:36 +0000 2017</td>\n",
       "      <td>184</td>\n",
       "      <td>[paludiculture]</td>\n",
       "      <td>929042620462092290</td>\n",
       "      <td>en</td>\n",
       "      <td>None</td>\n",
       "      <td>DiannaKopansky</td>\n",
       "      <td>RT @iki_bmub: “We have to make peatland wet ag...</td>\n",
       "      <td>[iki_bmub, WetlandsInt]</td>\n",
       "      <td>Dianna Kopansky</td>\n",
       "    </tr>\n",
       "    <tr>\n",
       "      <th>4</th>\n",
       "      <td>None</td>\n",
       "      <td>Fri Nov 10 17:46:38 +0000 2017</td>\n",
       "      <td>157</td>\n",
       "      <td>[FastForward, ClimateAction, COP23]</td>\n",
       "      <td>929042629597302789</td>\n",
       "      <td>en</td>\n",
       "      <td>None</td>\n",
       "      <td>IreneAyaa</td>\n",
       "      <td>RT @dw_akademie: Have a walk through the Bonn ...</td>\n",
       "      <td>[dw_akademie]</td>\n",
       "      <td>Irene Ayaa</td>\n",
       "    </tr>\n",
       "    <tr>\n",
       "      <th>5</th>\n",
       "      <td>None</td>\n",
       "      <td>Fri Nov 10 17:46:38 +0000 2017</td>\n",
       "      <td>2307</td>\n",
       "      <td>[]</td>\n",
       "      <td>929042631983812608</td>\n",
       "      <td>en</td>\n",
       "      <td>None</td>\n",
       "      <td>TimmonsRoberts</td>\n",
       "      <td>Snappy title on this in session document in th...</td>\n",
       "      <td>[]</td>\n",
       "      <td>Timmons Roberts</td>\n",
       "    </tr>\n",
       "    <tr>\n",
       "      <th>6</th>\n",
       "      <td>None</td>\n",
       "      <td>Fri Nov 10 17:46:42 +0000 2017</td>\n",
       "      <td>421</td>\n",
       "      <td>[ClimateChange]</td>\n",
       "      <td>929042646080692224</td>\n",
       "      <td>en</td>\n",
       "      <td>None</td>\n",
       "      <td>gameing</td>\n",
       "      <td>RT @Greenpeace: #ClimateChange is making storm...</td>\n",
       "      <td>[Greenpeace]</td>\n",
       "      <td>gameing</td>\n",
       "    </tr>\n",
       "  </tbody>\n",
       "</table>\n",
       "</div>"
      ],
      "text/plain": [
       "  country                      created_at  followers_count  \\\n",
       "0    None  Fri Nov 10 17:46:32 +0000 2017              218   \n",
       "2    None  Fri Nov 10 17:46:36 +0000 2017              184   \n",
       "4    None  Fri Nov 10 17:46:38 +0000 2017              157   \n",
       "5    None  Fri Nov 10 17:46:38 +0000 2017             2307   \n",
       "6    None  Fri Nov 10 17:46:42 +0000 2017              421   \n",
       "\n",
       "                              hashtags                  id lang place  \\\n",
       "0                                   []  929042603479269377   en  None   \n",
       "2                      [paludiculture]  929042620462092290   en  None   \n",
       "4  [FastForward, ClimateAction, COP23]  929042629597302789   en  None   \n",
       "5                                   []  929042631983812608   en  None   \n",
       "6                      [ClimateChange]  929042646080692224   en  None   \n",
       "\n",
       "      screen_name                                               text  \\\n",
       "0       karinam60  RT @zelfstudie: The Climate Action project cov...   \n",
       "2  DiannaKopansky  RT @iki_bmub: “We have to make peatland wet ag...   \n",
       "4       IreneAyaa  RT @dw_akademie: Have a walk through the Bonn ...   \n",
       "5  TimmonsRoberts  Snappy title on this in session document in th...   \n",
       "6         gameing  RT @Greenpeace: #ClimateChange is making storm...   \n",
       "\n",
       "             user_mentions_names        user_name  \n",
       "0  [zelfstudie, NatGeoEducation]           karina  \n",
       "2        [iki_bmub, WetlandsInt]  Dianna Kopansky  \n",
       "4                  [dw_akademie]       Irene Ayaa  \n",
       "5                             []  Timmons Roberts  \n",
       "6                   [Greenpeace]          gameing  "
      ]
     },
     "execution_count": 14,
     "metadata": {},
     "output_type": "execute_result"
    }
   ],
   "source": [
    "df_eng.head()"
   ]
  },
  {
   "cell_type": "markdown",
   "metadata": {},
   "source": [
    "How to process the resulting DataFrame will be the topic of the next notebook example."
   ]
  },
  {
   "cell_type": "markdown",
   "metadata": {},
   "source": [
    "## Useful links"
   ]
  },
  {
   "cell_type": "markdown",
   "metadata": {},
   "source": [
    "- [Twitter development guide](https://developer.twitter.com/en.html)\n",
    "- [Tweepy docs](http://tweepy.readthedocs.io/en/v3.5.0/index.html)"
   ]
  }
 ],
 "metadata": {
  "kernelspec": {
   "display_name": "Python 3",
   "language": "python",
   "name": "python3"
  },
  "language_info": {
   "codemirror_mode": {
    "name": "ipython",
    "version": 3
   },
   "file_extension": ".py",
   "mimetype": "text/x-python",
   "name": "python",
   "nbconvert_exporter": "python",
   "pygments_lexer": "ipython3",
   "version": "3.6.3"
  },
  "nikola": {
   "category": "",
   "date": "2019-11-22 13:59:02 UTC+01:00",
   "description": "",
   "link": "",
   "slug": "live-streaming-tweet-for-hashtags",
   "tags": "python, twitter, streaming, pandas",
   "title": "Live streaming tweet for hashtags",
   "type": "text"
  }
 },
 "nbformat": 4,
 "nbformat_minor": 2
}
